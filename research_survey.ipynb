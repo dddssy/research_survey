{
 "cells": [
  {
   "cell_type": "markdown",
   "metadata": {},
   "source": [
    "# 期刊"
   ]
  },
  {
   "cell_type": "markdown",
   "metadata": {},
   "source": [
    "## 交通预测综述"
   ]
  },
  {
   "cell_type": "markdown",
   "metadata": {},
   "source": [
    "#1、Data-Driven Intelligent Transportation Systems:A Survey\n",
    "#2、Predictive Systems: Living with Imperfect Predictors\n",
    "#3、Urban Traffic State Estimation TechniquesUsing Probe Vehicles: A Review"
   ]
  },
  {
   "cell_type": "markdown",
   "metadata": {},
   "source": [
    "## ConvLstm"
   ]
  },
  {
   "cell_type": "markdown",
   "metadata": {},
   "source": [
    "#1、FCCF: Forecasting Citywide Crowd FlowsBased on Big Data\n",
    "#2、Fully Convolutional Networks for Semantic Segmentation\n",
    "#3、Convolutional LSTM Network：A Machine Learning Approach for Precipitation Nowcasting\n",
    "#4、Unsupervised Learning of Video Representations using LSTMs\n",
    "#5、Sequence to Sequence Learning with Neural Networks"
   ]
  },
  {
   "cell_type": "markdown",
   "metadata": {},
   "source": [
    "## spatio-temporal"
   ]
  },
  {
   "cell_type": "markdown",
   "metadata": {},
   "source": [
    "#1、Urban Traffic Flow Prediction Using a Spatio-Temporal Random Effects Model\n",
    "#2、Spatio-temporal Traffic FlowPrediction\n",
    "#3、A spatiotemporal correlative k-nearest neighbor modelfor short-term traffic multistep forecasting\n",
    "#4、Spatiotemporal Recurrent Convolutional Networksfor Traffic Prediction in Transportation Networks\n",
    "#5、Real-time road traffic prediction with spatio-temporal correlations\n",
    "#6、智能交通系统中的时空数据分析关键技术研究_夏英\n",
    "#7、面向时空数据的挖掘算法研究_徐嘉培"
   ]
  },
  {
   "cell_type": "markdown",
   "metadata": {},
   "source": [
    "## cnn"
   ]
  },
  {
   "cell_type": "markdown",
   "metadata": {},
   "source": [
    "#1、Deep Architecture for Traffic Flow Prediction: DeepBelief Networks With Multitask Learning\n",
    "#2、Learning Traffic as Images: A Deep ConvolutionalNeural Network for Large-Scale TransportationNetwork Speed Prediction"
   ]
  },
  {
   "cell_type": "markdown",
   "metadata": {},
   "source": [
    "## 交通流量预测"
   ]
  },
  {
   "cell_type": "markdown",
   "metadata": {},
   "source": [
    "#1、Deep Architecture for Traffic Flow Prediction: DeepBelief Networks With Multitask Learning\n",
    "#2、Urban Traffic Flow Prediction Using a Spatio-Temporal Random Effects Model\n",
    "#3、Traffic Flow Prediction With Big Data:A Deep Learning Approach\n",
    "#4、Spatio-temporal Traffic FlowPrediction\n",
    "#5、基于支持向量回归的短时交通流预测模型\n",
    "#6、基于决策树理论的交通流短时预测\n",
    "#7、The Traffic Flow Prediction Using Bayesianand Neural Networks\n",
    "#8、Large-Scale Transportation NetworkCongestion Evolution Prediction Using DeepLearning Theory\n",
    "#9、Short-Term Traffic Flow Forecasting for FreewayIncident-Induced Delay Estimation\n",
    "#10、Deep learning for short-term traffic flow prediction\n",
    "#11、Traffic volume forecasting based on radial basis function neuralnetwork with the consideration of traffic flows at the adjacentintersections\n"
   ]
  },
  {
   "cell_type": "markdown",
   "metadata": {},
   "source": [
    "## 交通速度预测"
   ]
  },
  {
   "cell_type": "markdown",
   "metadata": {},
   "source": [
    "#1、A spatiotemporal correlative k-nearest neighbor modelfor short-term traffic multistep forecasting\n",
    "#2、Long short-term memory neural network for traffic speedprediction using remote microwave sensor data\n",
    "#3、Learning Traffic as Images: A Deep ConvolutionalNeural Network for Large-Scale TransportationNetwork Speed Prediction\n",
    "#4、Spatiotemporal Recurrent Convolutional Networksfor Traffic Prediction in Transportation Networks\n",
    "#5、Hybrid short-term freeway speed prediction methods based onperiodic analysis"
   ]
  },
  {
   "cell_type": "markdown",
   "metadata": {},
   "source": [
    "## 交通行程时间估计"
   ]
  },
  {
   "cell_type": "markdown",
   "metadata": {},
   "source": [
    "#1、A travel time reliability model of urban expresswayswith varying levels of service\n",
    "#2、A gradient boosting method to improve travel time prediction\n",
    "#3、Multi-step prediction of experienced travel times usingagent-based modeling\n",
    "#4、A real time forecasting tool for dynamic travel time fromclustered time series\n",
    "#5、A copula-based approach for estimating the travel timereliability of urban arterial\n",
    "#6、Short-term Travel-time Prediction on Highway:A Review on Model-based Approach\n",
    "#7、Development of a Data-Driven Frameworkfor Real-Time Travel Time Prediction"
   ]
  },
  {
   "cell_type": "markdown",
   "metadata": {},
   "source": [
    "## 交通状态预测"
   ]
  },
  {
   "cell_type": "markdown",
   "metadata": {},
   "source": [
    "#1、Real-time road traffic state prediction based onARIMA and Kalman filter*\n",
    "#2、Real-time road traffic prediction with spatio-temporal correlations\n",
    "#3、基于支持向量回归机的交通状态短时预测方法研究\n",
    "#4、Adaptive Model for TrafficCongestion Prediction\n",
    "#5、LSTM Network: A Deep Learning Approach For Short-TermTraffic Forecast"
   ]
  },
  {
   "cell_type": "markdown",
   "metadata": {},
   "source": [
    "## 其他 "
   ]
  },
  {
   "cell_type": "markdown",
   "metadata": {},
   "source": [
    "#1、GIS\n",
    "#2、Time Series Analysis:Load Forecasting Track of Global Energy\n",
    "#3、ASC Student Supercomputer Challenge 2017 Notification\n",
    "#4、DRIVE Net:Development of a Web-based Arterial Network Analysis System for Real-time Decision Support An E-Science Transportation Platform for Data Sharing, Visualization, Modeling, and Analysis\n",
    "#5、X.Ma发明专利\n",
    "\n"
   ]
  },
  {
   "cell_type": "markdown",
   "metadata": {},
   "source": [
    "# 学位论文"
   ]
  },
  {
   "cell_type": "markdown",
   "metadata": {},
   "source": [
    "## 交通流量预测 "
   ]
  },
  {
   "cell_type": "markdown",
   "metadata": {},
   "source": [
    "#1、基于K近邻非参数回归的短时交通流预测算法研究_林川\n",
    "#2、基于深度学习的短时交通流预测_罗向龙\n",
    "#3、基于马尔可夫链组合模型的交通流量长时预测_谢凯兵\n",
    "#4、基于动态模糊神经网络的交通流预测_邬月春\n",
    "#5、面向短时交通流量预测的神经网络算法研究_林海涛\n",
    "#6、基于深度学习的路网短时交通流预测_焦琴琴\n",
    "#6、基于BP神经网络的交通流量预测_曹虹\n",
    "#7、基于时间序列模型的短时交通流预测的研究与应用_杨元元\n",
    "#8、基于神经网络和SVM的短时交通流组合预测研究_伍骏\n",
    "#9、基于HMM的短时交通状态预测研究_杨江波\n",
    "#10、基于组合模型的短时交通流的预测研究_徐颖超"
   ]
  },
  {
   "cell_type": "markdown",
   "metadata": {},
   "source": [
    "## 交通时间"
   ]
  },
  {
   "cell_type": "markdown",
   "metadata": {},
   "source": [
    "#1、基于径向基函数_RBF_神经网络的路段行程时间预测研究_朱耿先\n",
    "#2、基于隐马尔可夫模型的车辆行程时间预测方法研究_欧阳黜霏"
   ]
  },
  {
   "cell_type": "markdown",
   "metadata": {},
   "source": [
    "## 交通状态预测"
   ]
  },
  {
   "cell_type": "markdown",
   "metadata": {},
   "source": [
    "#1、城市快速路交通运行状态评价及预测方法研究_张亮亮\n",
    "#2、基于数据的交通拥堵评价与预测方法_倪升华\n",
    "#3、基于多源数据的交通状态监测与预测方法研究_李琦\n",
    "#4、基于VISSIM的城市交通预测_控制和诱导研究_花玲\n",
    "#5、城市路网实时动态交通信息的组合预测模型和方法研究_孙喜梅\n",
    "#6、面向交通拥堵预测大数据的神经网络群组快速学习_沈晴\n"
   ]
  },
  {
   "cell_type": "markdown",
   "metadata": {},
   "source": [
    "## 其他"
   ]
  },
  {
   "cell_type": "markdown",
   "metadata": {},
   "source": [
    "#1、城市道路交通数据挖掘研究与应用_覃明贵\n",
    "#2、基于出租车数据的交通数据可视化研究_董亮\n",
    "#3、智能交通系统中的时空数据分析关键技术研究_夏英\n",
    "#4、城市交通大数据的地图可视化研究_段颖超\n",
    "#5、空间数据挖掘在基于GIS的智能交通系统中的应用_宋春晓\n",
    "#6、面向时空数据的挖掘算法研究_徐嘉培"
   ]
  }
 ],
 "metadata": {
  "kernelspec": {
   "display_name": "Python 2",
   "language": "python",
   "name": "python2"
  },
  "language_info": {
   "codemirror_mode": {
    "name": "ipython",
    "version": 2
   },
   "file_extension": ".py",
   "mimetype": "text/x-python",
   "name": "python",
   "nbconvert_exporter": "python",
   "pygments_lexer": "ipython2",
   "version": "2.7.13"
  },
  "widgets": {
   "application/vnd.jupyter.widget-state+json": {
    "state": {},
    "version_major": 1,
    "version_minor": 0
   }
  }
 },
 "nbformat": 4,
 "nbformat_minor": 2
}
